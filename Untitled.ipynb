{
 "cells": [
  {
   "cell_type": "code",
   "execution_count": 1,
   "metadata": {},
   "outputs": [],
   "source": [
    "import numpy as np\n",
    "import matplotlib.pylab as plt"
   ]
  },
  {
   "cell_type": "code",
   "execution_count": 81,
   "metadata": {},
   "outputs": [],
   "source": [
    "def model_1(x, param):\n",
    "    return param[0]*np.sin(param[1]*x)/(np.power(x,2))"
   ]
  },
  {
   "cell_type": "code",
   "execution_count": 82,
   "metadata": {},
   "outputs": [],
   "source": [
    "def model_2(x, param):\n",
    "    return param[0]*np.sin(param[1]*x)/(np.power(x,param[2]))"
   ]
  },
  {
   "cell_type": "code",
   "execution_count": 83,
   "metadata": {},
   "outputs": [],
   "source": [
    "def loglike(x_obs, y_obs, sigma_y_obs, model, params):\n",
    "    l = np.sum(-0.5*(y_obs - model(x_obs, params))**2/sigma_y_obs**2)\n",
    "    return l"
   ]
  },
  {
   "cell_type": "code",
   "execution_count": 103,
   "metadata": {},
   "outputs": [],
   "source": [
    "def run_mcmc(x_obs, y_obs, sigma_y_obs, \n",
    "             model, n_params=2, n_iterations=200000, scale=0.01):\n",
    "    \n",
    "    params = np.ones([n_iterations, n_params])*0.5\n",
    "    loglike_values = np.ones(n_iterations)\n",
    "    loglike_values[0] = loglike(x_obs, y_obs, sigma_y_obs, model, params[0,:])\n",
    "    for i in range(1, n_iterations):\n",
    "        current_params = params[i-1,:]\n",
    "        next_params = current_params + np.random.normal(scale=scale, size=n_params)\n",
    "        \n",
    "        loglike_current = loglike(x_obs, y_obs, sigma_y_obs, model, current_params) \n",
    "        loglike_next = loglike(x_obs, y_obs, sigma_y_obs, model, next_params) \n",
    "            \n",
    "        r = np.min([np.exp(loglike_next - loglike_current), 1.0])\n",
    "        alpha = np.random.random()\n",
    "\n",
    "        if alpha < r:\n",
    "            params[i,:] = next_params\n",
    "            loglike_values[i] = loglike_next\n",
    "        else:\n",
    "            params[i,:] = current_params\n",
    "            loglike_values[i] = loglike_current\n",
    "        \n",
    "    params = params[n_iterations//2:,:]\n",
    "    loglike_values = loglike_values[n_iterations//2:]\n",
    "    return {'params':params, 'x_obs':x_obs, 'y_obs':y_obs, 'loglike_values':loglike_values}"
   ]
  },
  {
   "cell_type": "code",
   "execution_count": 104,
   "metadata": {},
   "outputs": [],
   "source": [
    "def BIC(params_model):\n",
    "    max_loglike = np.max(params_model['loglike_values'])\n",
    "    n_dim = np.shape(params_model['params'])[1]\n",
    "    n_points = len(params_model['y_obs'])\n",
    "    return 2.0*(-max_loglike + 0.5*n_dim*np.log(n_points))\n",
    "\n",
    "def plot_model(params_model, model):\n",
    "    n_dim = np.shape(params_model['params'])[1]\n",
    "    n_points = len(params_model['y_obs'])\n",
    "    \n",
    "    plt.figure(figsize = (4*(n_dim//2+1),6))\n",
    "    for i in range(n_dim):\n",
    "        plt.subplot(2, n_dim//2+1, i+1)\n",
    "        plt.hist(params_model['params'][:,i], density=True, bins=30)\n",
    "        plt.title(r\"$\\beta_{}= {:.2f}\\pm {:.2f}$\".format(i,np.mean(params_model['params'][:,i]), np.std(params_model['params'][:,i])))\n",
    "        plt.xlabel(r\"$\\beta_{}$\".format(i))\n",
    "        \n",
    "    plt.subplot(2,n_dim//2+1, i+2)\n",
    "    best = np.mean(params_model['params'], axis=0)\n",
    "    x = params_model['x_obs']\n",
    "    x_model = np.linspace(x.min(), x.max(), 100)\n",
    "    y_model = model(x_model, best)\n",
    "    plt.plot(x_model, y_model)\n",
    "    plt.errorbar(x, y, yerr=sigma_y, fmt='o')\n",
    "    plt.title(\"BIC={:.2f}\".format(BIC(params_model)))\n",
    "    \n",
    "    plt.subplots_adjust(hspace=0.5)\n",
    "    #plt.savefig(model_name+\".png\")"
   ]
  },
  {
   "cell_type": "code",
   "execution_count": 105,
   "metadata": {},
   "outputs": [],
   "source": [
    "# Lee los datos\n",
    "data = np.loadtxt('MagneticRatios.txt')\n",
    "x = data[:,0]\n",
    "y = data[:,1]\n",
    "sigma_y = 0.03"
   ]
  },
  {
   "cell_type": "code",
   "execution_count": null,
   "metadata": {},
   "outputs": [],
   "source": [
    "# ajusta los modelos\n",
    "params_model_1 = run_mcmc(x, y, sigma_y, model_1)\n",
    "params_model_2 = run_mcmc(x, y, sigma_y, model_2, n_params=3)"
   ]
  },
  {
   "cell_type": "code",
   "execution_count": null,
   "metadata": {},
   "outputs": [],
   "source": [
    "# hace las graficas\n",
    "plot_model(params_model_1, model_1, 'model_1')\n",
    "plot_model(params_model_2, model_2, 'model_1')"
   ]
  },
  {
   "cell_type": "code",
   "execution_count": 85,
   "metadata": {},
   "outputs": [
    {
     "data": {
      "text/plain": [
       "array([[1., 1.],\n",
       "       [1., 1.],\n",
       "       [1., 1.],\n",
       "       ...,\n",
       "       [1., 1.],\n",
       "       [1., 1.],\n",
       "       [1., 1.]])"
      ]
     },
     "execution_count": 85,
     "metadata": {},
     "output_type": "execute_result"
    }
   ],
   "source": [
    "np.ones([20000, 2])"
   ]
  },
  {
   "cell_type": "code",
   "execution_count": null,
   "metadata": {},
   "outputs": [],
   "source": []
  }
 ],
 "metadata": {
  "kernelspec": {
   "display_name": "Python 3",
   "language": "python",
   "name": "python3"
  },
  "language_info": {
   "codemirror_mode": {
    "name": "ipython",
    "version": 3
   },
   "file_extension": ".py",
   "mimetype": "text/x-python",
   "name": "python",
   "nbconvert_exporter": "python",
   "pygments_lexer": "ipython3",
   "version": "3.7.6"
  }
 },
 "nbformat": 4,
 "nbformat_minor": 4
}
